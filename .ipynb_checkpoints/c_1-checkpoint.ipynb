{
 "cells": [
  {
   "cell_type": "code",
   "execution_count": 73,
   "metadata": {
    "collapsed": true
   },
   "outputs": [],
   "source": [
    "%matplotlib inline\n",
    "import pandas as pd\n",
    "import numpy as np\n",
    "import matplotlib.pyplot as plt"
   ]
  },
  {
   "cell_type": "code",
   "execution_count": 38,
   "metadata": {
    "collapsed": true
   },
   "outputs": [],
   "source": [
    "red_wine = pd.read_csv('winequality-red.csv',sep=\";\")\n",
    "white_wine = pd.read_csv('winequality-white.csv',sep=\";\")"
   ]
  },
  {
   "cell_type": "code",
   "execution_count": 39,
   "metadata": {
    "collapsed": true
   },
   "outputs": [],
   "source": [
    "red_wine_labels = red_wine.ix[:,11]\n",
    "red_wine_features = red_wine.ix[:,0:11]\n",
    "white_wine_labels = white_wine.ix[:,11]\n",
    "white_wine_features = white_wine.ix[:,0:11]"
   ]
  },
  {
   "cell_type": "code",
   "execution_count": 76,
   "metadata": {
    "collapsed": false
   },
   "outputs": [],
   "source": [
    "both_wines = pd.concat([red_wine_features,white_wine_features],axis=0)\n",
    "both_wines_labels = pd.concat([red_wine_labels,white_wine_labels],axis=0)"
   ]
  },
  {
   "cell_type": "code",
   "execution_count": 41,
   "metadata": {
    "collapsed": true
   },
   "outputs": [],
   "source": [
    "both_wines_array = both_wines.as_matrix()"
   ]
  },
  {
   "cell_type": "code",
   "execution_count": 42,
   "metadata": {
    "collapsed": true
   },
   "outputs": [],
   "source": [
    "from sklearn.preprocessing import StandardScaler\n",
    "X_std = StandardScaler().fit_transform(both_wines)"
   ]
  },
  {
   "cell_type": "code",
   "execution_count": 110,
   "metadata": {
    "collapsed": false
   },
   "outputs": [
    {
     "name": "stdout",
     "output_type": "stream",
     "text": [
      "Covariance matrix \n",
      "[[ 1.00015394  0.21904197  0.32448567 -0.11199852  0.29824068 -0.28277895\n",
      "  -0.32910456  0.45898063 -0.25273937  0.29961386 -0.09546622]\n",
      " [ 0.21904197  1.00015394 -0.3780395  -0.19604135  0.37718233 -0.35261158\n",
      "  -0.41454     0.27133741  0.26149465  0.22601847 -0.03764618]\n",
      " [ 0.32448567 -0.3780395   1.00015394  0.14247316  0.03900402  0.1331463\n",
      "   0.19527203  0.09616873 -0.32985896  0.05620595 -0.01049511]\n",
      " [-0.11199852 -0.19604135  0.14247316  1.00015394 -0.12896035  0.40293266\n",
      "   0.49555786  0.55260201 -0.26736099 -0.18595603 -0.3594701 ]\n",
      " [ 0.29824068  0.37718233  0.03900402 -0.12896035  1.00015394 -0.19507481\n",
      "  -0.27967349  0.36267048  0.04471486  0.3956542  -0.25695513]\n",
      " [-0.28277895 -0.35261158  0.1331463   0.40293266 -0.19507481  1.00015394\n",
      "   0.72104506  0.0257208  -0.14587635 -0.18848626 -0.17986612]\n",
      " [-0.32910456 -0.41454     0.19527203  0.49555786 -0.27967349  0.72104506\n",
      "   1.00015394  0.0323995  -0.2384498  -0.27576927 -0.26578055]\n",
      " [ 0.45898063  0.27133741  0.09616873  0.55260201  0.36267048  0.0257208\n",
      "   0.0323995   1.00015394  0.01168788  0.25951844 -0.68685114]\n",
      " [-0.25273937  0.26149465 -0.32985896 -0.26736099  0.04471486 -0.14587635\n",
      "  -0.2384498   0.01168788  1.00015394  0.19215298  0.12126713]\n",
      " [ 0.29961386  0.22601847  0.05620595 -0.18595603  0.3956542  -0.18848626\n",
      "  -0.27576927  0.25951844  0.19215298  1.00015394 -0.00302966]\n",
      " [-0.09546622 -0.03764618 -0.01049511 -0.3594701  -0.25695513 -0.17986612\n",
      "  -0.26578055 -0.68685114  0.12126713 -0.00302966  1.00015394]]\n"
     ]
    },
    {
     "data": {
      "image/png": "[encoded data removed]",
      "text/plain": [
       "<matplotlib.figure.Figure at 0x148dcf28>"
      ]
     },
     "metadata": {},
     "output_type": "display_data"
    }
   ],
   "source": [
    "from pylab import pcolor, show, colorbar, xticks, yticks\n",
    "print \"Covariance matrix \\n{}\".format(np.cov(X_std.T))\n",
    "fig = plt.figure()\n",
    "\n",
    "fig.clf()\n",
    "pcolor(np.cov(X_std.T),cmap=plt.cm.coolwarm)\n",
    "colorbar(cmap=plt.cm.coolwarm)\n",
    "yticks(np.arange(0.5,11.5),range(1,12))\n",
    "xticks(np.arange(0.5,11.5),range(1,12))\n",
    "plt.title(\"Covariance Matrix of Standardized\")\n",
    "plt.show()"
   ]
  },
  {
   "cell_type": "code",
   "execution_count": 44,
   "metadata": {
    "collapsed": false
   },
   "outputs": [
    {
     "name": "stdout",
     "output_type": "stream",
     "text": [
      "Eigenvectors:[[  2.38798897e-01   3.36354536e-01  -4.34301304e-01  -3.34679266e-01\n",
      "   -1.64346214e-01  -2.81267685e-01   3.44056674e-01   1.47480376e-01\n",
      "    2.04553713e-01   4.01235645e-01  -2.83079440e-01]\n",
      " [  3.80757499e-01   1.17549716e-01   3.07259420e-01  -8.47718098e-02\n",
      "   -2.12784888e-01   1.52176731e-01  -4.96932675e-01  -1.51455988e-01\n",
      "    4.92143072e-01  -8.74350885e-02  -3.89159756e-01]\n",
      " [ -1.52388438e-01   1.83299403e-01  -5.90569674e-01   1.10895136e-03\n",
      "    2.64300312e-01   2.34463340e-01  -4.02688676e-01   1.55348697e-01\n",
      "   -2.27633798e-01  -2.93412336e-01  -3.81285036e-01]\n",
      " [ -3.45919930e-01   3.29914181e-01   1.64688429e-01  -4.49765078e-01\n",
      "   -1.67443015e-01  -1.37277329e-03   1.08003195e-01   3.53361853e-01\n",
      "    2.33477754e-01  -5.24872935e-01   2.17975536e-01]\n",
      " [  2.90112586e-01   3.15257992e-01   1.66791047e-02  -4.34375867e-02\n",
      "    2.44743855e-01  -1.96630217e-01   2.96443716e-01  -6.14391068e-01\n",
      "   -1.60976388e-01  -4.71516850e-01  -4.60681556e-02]\n",
      " [ -4.30914008e-01   7.19325988e-02   1.34223949e-01   2.12535051e-04\n",
      "    3.57278939e-01   4.80243340e-01   3.66656259e-01  -2.23532291e-01\n",
      "    3.40051404e-01   2.07807585e-01  -2.99363246e-01]\n",
      " [ -4.87418060e-01   8.72662782e-02   1.07462297e-01   6.26848131e-02\n",
      "    2.08420143e-01  -7.13663486e-01  -3.20695518e-01  -1.58133609e-01\n",
      "    1.51277220e-01   1.28621319e-01  -1.38910324e-01]\n",
      " [  4.49366366e-02   5.84037336e-01   1.75605553e-01   7.15162072e-01\n",
      "   -7.27249582e-02  -3.90828869e-03   1.12880004e-01   3.06561339e-01\n",
      "   -1.87430671e-02   4.83113638e-03  -4.67589743e-02]\n",
      " [  2.18686443e-01  -1.55869002e-01   4.55324122e-01  -2.06360504e-01\n",
      "    4.14551098e-01  -1.41310977e-01   1.27836685e-01   4.53376428e-01\n",
      "   -2.96578903e-01  -2.86432769e-02  -4.18907016e-01]\n",
      " [  2.94135169e-01   1.91715769e-01  -7.00424827e-02  -7.72024671e-02\n",
      "    6.40535710e-01   4.59594991e-02  -2.07764157e-01   1.36576919e-01\n",
      "    2.96925791e-01   1.65818022e-01   5.25343110e-01]\n",
      " [  1.06437120e-01  -4.65057692e-01  -2.61100527e-01   3.35701878e-01\n",
      "    1.06802696e-01  -2.05053085e-01   2.51890253e-01   1.88892040e-01\n",
      "    5.18377797e-01  -3.99233887e-01  -1.04103426e-01]]\n",
      "\n",
      "\n",
      "Eigenvalues:[ 3.03033507  2.49420993  1.55658654  0.03283586  0.97070149  0.22773082\n",
      "  0.33707593  0.71998573  0.6074052   0.50158749  0.5232393 ]\n",
      "\n"
     ]
    }
   ],
   "source": [
    "cov_mat = np.cov(X_std.T)\n",
    "\n",
    "eig_vals, eig_vecs = np.linalg.eig(cov_mat)\n",
    "\n",
    "print \"Eigenvectors:{}\\n\".format(eig_vecs)\n",
    "print \"\\nEigenvalues:{}\\n\".format(eig_vals)"
   ]
  },
  {
   "cell_type": "code",
   "execution_count": 45,
   "metadata": {
    "collapsed": false
   },
   "outputs": [
    {
     "name": "stdout",
     "output_type": "stream",
     "text": [
      "Eigenvalues in descending order:\n",
      "3.03033506922\n",
      "2.49420992901\n",
      "1.55658653849\n",
      "0.970701486319\n",
      "0.719985734134\n",
      "0.607405200995\n",
      "0.523239298732\n",
      "0.501587493276\n",
      "0.337075927172\n",
      "0.227730816147\n",
      "0.0328358562561\n"
     ]
    }
   ],
   "source": [
    "eig_pairs = [(np.abs(eig_vals[i]), eig_vecs[:,i]) for i in  range(len(eig_vals))]\n",
    "\n",
    "eig_pairs.sort()\n",
    "eig_pairs.reverse()\n",
    "\n",
    "print \"Eigenvalues in descending order:\"\n",
    "for i in eig_pairs:\n",
    "    print(i[0])"
   ]
  },
  {
   "cell_type": "code",
   "execution_count": 46,
   "metadata": {
    "collapsed": false
   },
   "outputs": [
    {
     "name": "stdout",
     "output_type": "stream",
     "text": [
      "[  95.38   99.44   99.92   99.97  100.    100.    100.    100.    100.\n",
      "  100.    100.  ]\n"
     ]
    }
   ],
   "source": [
    "from sklearn.decomposition import PCA\n",
    "\n",
    "pca = PCA(n_components=11)\n",
    "pca.fit(both_wines_array)\n",
    "\n",
    "var_expl = pca.explained_variance_ratio_\n",
    "var_cum_expl = np.cumsum(np.round(pca.explained_variance_ratio_,decimals=4)*100)\n",
    "print(var_cum_expl)"
   ]
  },
  {
   "cell_type": "code",
   "execution_count": 68,
   "metadata": {
    "collapsed": false,
    "scrolled": false
   },
   "outputs": [
    {
     "data": {
      "text/plain": [
       "[<matplotlib.lines.Line2D at 0x12242278>]"
      ]
     },
     "execution_count": 68,
     "metadata": {},
     "output_type": "execute_result"
    },
    {
     "data": {
      "image/png": "[encoded data removed]",
      "text/plain": [
       "<matplotlib.figure.Figure at 0x11b9bcc0>"
      ]
     },
     "metadata": {},
     "output_type": "display_data"
    }
   ],
   "source": [
    "plt.plot(var_cum_expl)"
   ]
  },
  {
   "cell_type": "code",
   "execution_count": 83,
   "metadata": {
    "collapsed": false
   },
   "outputs": [
    {
     "name": "stdout",
     "output_type": "stream",
     "text": [
      "explained variance ratio (first two components): [ 0.95375825  0.04062775]\n"
     ]
    },
    {
     "name": "stderr",
     "output_type": "stream",
     "text": [
      "C:\\Program Files\\Anaconda2\\lib\\site-packages\\ipykernel\\__main__.py:10: VisibleDeprecationWarning:\n",
      "\n",
      "using a non-integer number instead of an integer will result in an error in the future\n",
      "\n"
     ]
    },
    {
     "ename": "IndexError",
     "evalue": "only integers, slices (`:`), ellipsis (`...`), numpy.newaxis (`None`) and integer or boolean arrays are valid indices",
     "output_type": "error",
     "traceback": [
      "\u001b[0;31m\u001b[0m",
      "\u001b[0;31mIndexError\u001b[0mTraceback (most recent call last)",
      "\u001b[0;32m<ipython-input-83-a237ce40347b>\u001b[0m in \u001b[0;36m<module>\u001b[0;34m()\u001b[0m\n\u001b[1;32m      8\u001b[0m \u001b[0mcolors\u001b[0m \u001b[1;33m=\u001b[0m \u001b[1;33m[\u001b[0m\u001b[1;34m'navy'\u001b[0m\u001b[1;33m,\u001b[0m\u001b[1;34m'turquoise'\u001b[0m\u001b[1;33m]\u001b[0m\u001b[1;33m\u001b[0m\u001b[0m\n\u001b[1;32m      9\u001b[0m \u001b[1;33m\u001b[0m\u001b[0m\n\u001b[0;32m---> 10\u001b[0;31m \u001b[1;32mfor\u001b[0m \u001b[0mcolor\u001b[0m\u001b[1;33m,\u001b[0m \u001b[0mi\u001b[0m\u001b[1;33m,\u001b[0m \u001b[0mwine_type\u001b[0m \u001b[1;32min\u001b[0m \u001b[0mzip\u001b[0m\u001b[1;33m(\u001b[0m\u001b[0mcolors\u001b[0m\u001b[1;33m,\u001b[0m\u001b[1;33m[\u001b[0m\u001b[1;36m0\u001b[0m\u001b[1;33m,\u001b[0m\u001b[1;36m1\u001b[0m\u001b[1;33m,\u001b[0m\u001b[1;36m2\u001b[0m\u001b[1;33m]\u001b[0m\u001b[1;33m,\u001b[0m\u001b[1;33m[\u001b[0m\u001b[0mboth_wines_array\u001b[0m\u001b[1;33m[\u001b[0m\u001b[1;34m'red wine'\u001b[0m\u001b[1;33m]\u001b[0m\u001b[1;33m,\u001b[0m\u001b[0mboth_wines_array\u001b[0m\u001b[1;33m[\u001b[0m\u001b[1;34m'white wine'\u001b[0m\u001b[1;33m]\u001b[0m\u001b[1;33m]\u001b[0m\u001b[1;33m)\u001b[0m\u001b[1;33m:\u001b[0m\u001b[1;33m\u001b[0m\u001b[0m\n\u001b[0m\u001b[1;32m     11\u001b[0m     plt.scatter(both_wines_array_red[both_wines_labels == i, 0],\n\u001b[1;32m     12\u001b[0m                 \u001b[0mboth_wines_array_red\u001b[0m\u001b[1;33m[\u001b[0m\u001b[0mboth_wines_labels\u001b[0m \u001b[1;33m==\u001b[0m \u001b[0mi\u001b[0m\u001b[1;33m,\u001b[0m \u001b[1;36m1\u001b[0m\u001b[1;33m]\u001b[0m\u001b[1;33m,\u001b[0m\u001b[1;33m\u001b[0m\u001b[0m\n",
      "\u001b[0;31mIndexError\u001b[0m: only integers, slices (`:`), ellipsis (`...`), numpy.newaxis (`None`) and integer or boolean arrays are valid indices"
     ]
    },
    {
     "data": {
      "text/plain": [
       "<matplotlib.figure.Figure at 0x112d76a0>"
      ]
     },
     "metadata": {},
     "output_type": "display_data"
    }
   ],
   "source": [
    "pca = PCA(n_components=2)\n",
    "both_wines_array_red = pca.fit(both_wines_array).transform(both_wines_array)\n",
    "\n",
    "print('explained variance ratio (first two components): %s'\n",
    "      % str(pca.explained_variance_ratio_))\n",
    "\n",
    "plt.figure()\n",
    "colors = ['navy','turquoise']\n",
    "\n",
    "for color, i, wine_type in zip(colors,[0,1,2]):\n",
    "    plt.scatter(both_wines_array_red[both_wines_labels == i, 0],\n",
    "                both_wines_array_red[both_wines_labels == i, 1],\n",
    "                color=color,alpha=.8,label=wine_type)\n",
    "\n",
    "plt.title('PCA of Wine dataset')"
   ]
  }
 ],
 "metadata": {
  "anaconda-cloud": {},
  "kernelspec": {
   "display_name": "Python [default]",
   "language": "python",
   "name": "python2"
  },
  "language_info": {
   "codemirror_mode": {
    "name": "ipython",
    "version": 2
   },
   "file_extension": ".py",
   "mimetype": "text/x-python",
   "name": "python",
   "nbconvert_exporter": "python",
   "pygments_lexer": "ipython2",
   "version": "2.7.12"
  }
 },
 "nbformat": 4,
 "nbformat_minor": 0
}
