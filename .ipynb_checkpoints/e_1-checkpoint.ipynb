{
 "cells": [
  {
   "cell_type": "code",
   "execution_count": 19,
   "metadata": {
    "collapsed": true
   },
   "outputs": [],
   "source": [
    "from __future__ import print_function\n",
    "\n",
    "%matplotlib inline\n",
    "import pandas as pd\n",
    "import numpy as np\n",
    "import matplotlib.pyplot as plt\n",
    "\n",
    "from sklearn.metrics import confusion_matrix, recall_score, precision_score"
   ]
  },
  {
   "cell_type": "code",
   "execution_count": 2,
   "metadata": {
    "collapsed": true
   },
   "outputs": [],
   "source": [
    "red_wine = pd.read_csv('winequality-red.csv',sep=\";\")\n",
    "red_wine['type']=\"red wine\"\n",
    "white_wine = pd.read_csv('winequality-white.csv',sep=\";\")\n",
    "white_wine['type']=\"white wine\""
   ]
  },
  {
   "cell_type": "code",
   "execution_count": 3,
   "metadata": {
    "collapsed": true
   },
   "outputs": [],
   "source": [
    "def encode_target(df, target_column):\n",
    "    \"\"\"Add column to df with integers for the target.\n",
    "\n",
    "    Args\n",
    "    ----\n",
    "    df -- pandas DataFrame.\n",
    "    target_column -- column to map to int, producing\n",
    "                     new Target column.\n",
    "\n",
    "    Returns\n",
    "    -------\n",
    "    df_mod -- modified DataFrame.\n",
    "    targets -- list of target names.\n",
    "    \"\"\"\n",
    "    df_mod = df.copy()\n",
    "    targets = df_mod[target_column].unique()\n",
    "    map_to_int = {name: n for n, name in enumerate(targets)}\n",
    "    df_mod[\"Target\"] = df_mod[target_column].replace(map_to_int)\n",
    "\n",
    "    return (df_mod, targets)"
   ]
  },
  {
   "cell_type": "code",
   "execution_count": 4,
   "metadata": {
    "collapsed": false
   },
   "outputs": [
    {
     "name": "stdout",
     "output_type": "stream",
     "text": [
      "* df2.head()\n",
      "   Target      type\n",
      "0       0  red wine\n",
      "1       0  red wine\n",
      "2       0  red wine\n",
      "3       0  red wine\n",
      "4       0  red wine\n",
      "\n",
      "* df2.tail()\n",
      "      Target        type\n",
      "4893       1  white wine\n",
      "4894       1  white wine\n",
      "4895       1  white wine\n",
      "4896       1  white wine\n",
      "4897       1  white wine\n",
      "\n",
      "* targets\n",
      "['red wine' 'white wine']\n",
      "\n"
     ]
    }
   ],
   "source": [
    "from sklearn.model_selection import train_test_split\n",
    "\n",
    "both_wines = pd.concat([red_wine,white_wine],axis=0)\n",
    "\n",
    "df2, targets = encode_target(both_wines, \"type\")\n",
    "print(\"* df2.head()\", df2[[\"Target\", \"type\"]].head(),\n",
    "      sep=\"\\n\", end=\"\\n\\n\")\n",
    "print(\"* df2.tail()\", df2[[\"Target\", \"type\"]].tail(),\n",
    "      sep=\"\\n\", end=\"\\n\\n\")\n",
    "print(\"* targets\", targets, sep=\"\\n\", end=\"\\n\\n\")"
   ]
  },
  {
   "cell_type": "code",
   "execution_count": 5,
   "metadata": {
    "collapsed": true
   },
   "outputs": [],
   "source": [
    "df_shuffled = df2.iloc[np.random.permutation(len(df2))]\n",
    "df2 = df_shuffled.reset_index(drop=True)"
   ]
  },
  {
   "cell_type": "code",
   "execution_count": 14,
   "metadata": {
    "collapsed": false
   },
   "outputs": [
    {
     "name": "stdout",
     "output_type": "stream",
     "text": [
      "* features:\n",
      "['fixed acidity', 'volatile acidity', 'citric acid', 'residual sugar', 'chlorides', 'free sulfur dioxide', 'total sulfur dioxide', 'density', 'pH', 'sulphates', 'alcohol', 'quality']\n"
     ]
    }
   ],
   "source": [
    "from sklearn.preprocessing import StandardScaler\n",
    "features = list(df2_hq.columns[:12])\n",
    "print(\"* features:\", features, sep=\"\\n\")\n",
    "\n",
    "y = df2_hq[\"Target\"]\n",
    "X = df2_hq[features]\n",
    "X_std = StandardScaler().fit_transform(X)\n",
    "\n",
    "X_train, X_test, y_train, y_test = train_test_split(X_std,y,test_size=.3,random_state=10)"
   ]
  },
  {
   "cell_type": "code",
   "execution_count": 15,
   "metadata": {
    "collapsed": true
   },
   "outputs": [],
   "source": [
    "def con_rec_pre(y_true,y_pred):\n",
    "    \"\"\"Calculates and prints the confusion matrix, the recall and the precision score\n",
    "\n",
    "    Args\n",
    "    ----\n",
    "    y_true -- 1d array-like, or label indicator array / sparse matrix\n",
    "    y_pred -- 1d array-like, or label indicator array / sparse matrix\n",
    "\n",
    "    Returns\n",
    "    -------\n",
    "    test_conf_mat -- confusion matrix\n",
    "    test_recall -- recall score\n",
    "    test_precision -- precision score\n",
    "    \"\"\"\n",
    "    test_conf_mat = confusion_matrix(y_true,y_pred)\n",
    "    test_recall = recall_score(y_true,y_pred)\n",
    "    test_precision = precision_score(y_true,y_pred)\n",
    "    print(\"* Confusion matrix:\", test_conf_mat,sep=\"\\n\", end=\"\\n\\n\")\n",
    "    print(\"* Recall:\", test_recall,sep=\"\\n\", end=\"\\n\\n\")\n",
    "    print(\"* Precision:\", test_precision,sep=\"\\n\", end=\"\\n\\n\")"
   ]
  },
  {
   "cell_type": "code",
   "execution_count": 17,
   "metadata": {
    "collapsed": true
   },
   "outputs": [],
   "source": [
    "from sklearn.tree import DecisionTreeClassifier\n",
    "\n",
    "dt = DecisionTreeClassifier(random_state=10)\n",
    "dt.fit(X_train,y_train)\n",
    "\n",
    "dt_y_train_pred = dt.predict(X_train)\n",
    "dt_y_test_pred = dt.predict(X_test)"
   ]
  },
  {
   "cell_type": "code",
   "execution_count": 20,
   "metadata": {
    "collapsed": false
   },
   "outputs": [
    {
     "name": "stdout",
     "output_type": "stream",
     "text": [
      "* Confusion matrix:\n",
      "[[ 12   0]\n",
      " [  0 126]]\n",
      "\n",
      "* Recall:\n",
      "1.0\n",
      "\n",
      "* Precision:\n",
      "1.0\n",
      "\n"
     ]
    }
   ],
   "source": [
    "con_rec_pre(dt_y_train_pred,y_train)"
   ]
  },
  {
   "cell_type": "code",
   "execution_count": 21,
   "metadata": {
    "collapsed": false
   },
   "outputs": [
    {
     "name": "stdout",
     "output_type": "stream",
     "text": [
      "* Confusion matrix:\n",
      "[[ 4  0]\n",
      " [ 2 54]]\n",
      "\n",
      "* Recall:\n",
      "0.964285714286\n",
      "\n",
      "* Precision:\n",
      "1.0\n",
      "\n"
     ]
    }
   ],
   "source": [
    "con_rec_pre(dt_y_test_pred,y_test)"
   ]
  }
 ],
 "metadata": {
  "anaconda-cloud": {},
  "kernelspec": {
   "display_name": "Python [default]",
   "language": "python",
   "name": "python2"
  },
  "language_info": {
   "codemirror_mode": {
    "name": "ipython",
    "version": 2
   },
   "file_extension": ".py",
   "mimetype": "text/x-python",
   "name": "python",
   "nbconvert_exporter": "python",
   "pygments_lexer": "ipython2",
   "version": "2.7.12"
  }
 },
 "nbformat": 4,
 "nbformat_minor": 0
}
